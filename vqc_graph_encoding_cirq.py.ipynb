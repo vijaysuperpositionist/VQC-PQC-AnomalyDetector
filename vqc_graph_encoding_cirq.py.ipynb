{
 "cells": [
  {
   "cell_type": "markdown",
   "id": "ed7c87ee-d176-4e88-9710-3189c81fdd01",
   "metadata": {},
   "source": [
    "Notebook 1: vqc_input_anomaly_analysis.ipynb   (Think of this as a calculator before training the VQC classifier and in the next notebook as we will do a trained version in the future we can these two note books as calculators for anamoly detection and learn more as we grow, Notebook 2 would be \n",
    "Purpose: Setup, input encoding, anomaly testing, output distribution analysis\n",
    " Notebook 2: vqc_classifier_training.ipynb in the next book under the same folder structure)\n",
    "Use: Analyze new inputs manually, observe quantum fingerprints\n",
    "\n",
    "Includes:\n",
    "\n",
    "Circuit visualization\n",
    "\n",
    "Manual feature perturbation\n",
    "\n",
    "Pre-training probability shifts\n",
    "\n",
    "Diagnostic interpretation (entanglement breaks, symmetry drifts)"
   ]
  },
  {
   "cell_type": "markdown",
   "id": "b7c7bd82-b4ed-48fb-804a-5900e058de65",
   "metadata": {},
   "source": [
    "Circuit Input Encoding Template \n",
    "Goal: Quantum Encode Graph Features\n",
    "Since we don’t have real graph data yet, we’ll simulate abstract feature vectors like:\n",
    "\n",
    "Message size\n",
    "\n",
    "Path length\n",
    "\n",
    "Entropy\n",
    "\n",
    "Timing skew\n",
    "\n",
    "These will be encoded into quantum states using rotation gates, typically RY, RZ, or RX."
   ]
  },
  {
   "cell_type": "code",
   "execution_count": 1,
   "id": "c03e1b76-433d-44f4-b6d6-015b70b09bb5",
   "metadata": {},
   "outputs": [
    {
     "name": "stdout",
     "output_type": "stream",
     "text": [
      "🔧 Variational Circuit:\n",
      "0: ───Ry(0.25π)───@───Ry(theta_0)───M('result')───\n",
      "                  │                 │\n",
      "1: ───Ry(0.75π)───X───Rz(theta_1)───M─────────────\n"
     ]
    }
   ],
   "source": [
    "import cirq\n",
    "import sympy\n",
    "import numpy as np\n",
    "\n",
    "# Qubits\n",
    "q0, q1 = cirq.LineQubit.range(2)\n",
    "\n",
    "# Symbols (for optimization later)\n",
    "theta_0 = sympy.Symbol('theta_0')\n",
    "theta_1 = sympy.Symbol('theta_1')\n",
    "\n",
    "# Input feature encoding\n",
    "def encode_input(circuit, qubits, features):\n",
    "    circuit.append([\n",
    "        cirq.ry(features[0])(qubits[0]),\n",
    "        cirq.ry(features[1])(qubits[1])\n",
    "    ])\n",
    "\n",
    "# Variational layer\n",
    "def add_vqc_layer(circuit, qubits, thetas):\n",
    "    circuit.append([\n",
    "        cirq.CNOT(qubits[0], qubits[1]),\n",
    "        cirq.ry(thetas[0])(qubits[0]),\n",
    "        cirq.rz(thetas[1])(qubits[1]),\n",
    "    ])\n",
    "\n",
    "# Circuit\n",
    "circuit = cirq.Circuit()\n",
    "\n",
    "# Simulate a \"normal\" flow input (we'll vary this for anomalies)\n",
    "input_features = np.pi * np.array([0.25, 0.75])  # normalized features\n",
    "\n",
    "# Build the circuit\n",
    "encode_input(circuit, [q0, q1], input_features)\n",
    "add_vqc_layer(circuit, [q0, q1], [theta_0, theta_1])\n",
    "circuit.append(cirq.measure(q0, q1, key='result'))\n",
    "\n",
    "print(\"🔧 Variational Circuit:\")\n",
    "print(circuit)"
   ]
  },
  {
   "cell_type": "markdown",
   "id": "c6220d7b-48aa-44a3-b40d-1637dd078191",
   "metadata": {},
   "source": [
    "Encodes input features (simulated graph stats) as quantum rotations\n",
    "\n",
    "Applies a simple entangling + rotation layer (your VQC)\n",
    "\n",
    "Prepares for measurement, now lets simulate the circuit using Cirq simulator"
   ]
  },
  {
   "cell_type": "code",
   "execution_count": 2,
   "id": "e7cb885a-218c-4bc7-bed5-45096e2be573",
   "metadata": {},
   "outputs": [
    {
     "name": "stdout",
     "output_type": "stream",
     "text": [
      "📈 VQC result:\n",
      "result=0000100100000100010100010000000000100100000000000100000110111010000000010000000000000000100010100100, 0110111011111011101011101111101101111011111111111011110001010101111101101011101111111111001101011111\n"
     ]
    }
   ],
   "source": [
    "simulator = cirq.Simulator()\n",
    "resolved_circuit = cirq.resolve_parameters(circuit, {\n",
    "    theta_0: 0.1,\n",
    "    theta_1: -0.3\n",
    "})\n",
    "result = simulator.run(resolved_circuit, repetitions=100)\n",
    "print(\"📈 VQC result:\")\n",
    "print(result)"
   ]
  },
  {
   "cell_type": "markdown",
   "id": "3fb56ba5-6ef2-4bcb-ae6b-b3c6912522c2",
   "metadata": {},
   "source": [
    "Above is the output we can either represent it in graph histogram or a simple probability counter as below"
   ]
  },
  {
   "cell_type": "code",
   "execution_count": 8,
   "id": "b70ee7b3-b166-457c-b8d9-58b6135df844",
   "metadata": {},
   "outputs": [
    {
     "name": "stdout",
     "output_type": "stream",
     "text": [
      " Output Probabilities:\n",
      "00: 0.090\n",
      "01: 0.710\n",
      "10: 0.160\n",
      "11: 0.040\n"
     ]
    }
   ],
   "source": [
    "from collections import Counter\n",
    "\n",
    "# Convert results to bitstring format\n",
    "bitstrings = [''.join(map(str, b)) for b in result.measurements['result']]\n",
    "\n",
    "# Count occurrences\n",
    "counts = Counter(bitstrings)\n",
    "\n",
    "# Calculate probabilities\n",
    "total_shots = sum(counts.values())\n",
    "probabilities = {k: v / total_shots for k, v in counts.items()}\n",
    "\n",
    "# Pretty print\n",
    "print(\" Output Probabilities:\")\n",
    "for outcome, prob in sorted(probabilities.items()):\n",
    "    print(f\"{outcome}: {prob:.3f}\")"
   ]
  },
  {
   "cell_type": "markdown",
   "id": "117b23ba-f539-413a-8734-de632cc42346",
   "metadata": {},
   "source": [
    "Inject Anomaly via Input Feature Perturbation\n",
    "Let’s modify the original feature vector:"
   ]
  },
  {
   "cell_type": "code",
   "execution_count": 5,
   "id": "cd528dc1-0f60-463b-b4b2-4ccbe0f838d7",
   "metadata": {},
   "outputs": [],
   "source": [
    "input_features = np.pi * np.array([0.25, 0.75])"
   ]
  },
  {
   "cell_type": "markdown",
   "id": "e1b2db24-4113-406a-8261-d069b2ab0b85",
   "metadata": {},
   "source": [
    "to something slightly off — e.g., we flip the second value"
   ]
  },
  {
   "cell_type": "code",
   "execution_count": 6,
   "id": "27fe6f5e-9c34-48bd-be5c-6826bb4c3188",
   "metadata": {},
   "outputs": [],
   "source": [
    "anomalous_features = np.pi * np.array([0.25, 0.25])"
   ]
  },
  {
   "cell_type": "code",
   "execution_count": 9,
   "id": "d3ad17c3-d507-402f-92f6-f20da3e269a5",
   "metadata": {},
   "outputs": [
    {
     "name": "stdout",
     "output_type": "stream",
     "text": [
      "Anomalous Input Probabilities:\n",
      "00: 0.710\n",
      "01: 0.150\n",
      "10: 0.040\n",
      "11: 0.100\n"
     ]
    }
   ],
   "source": [
    "# Create new circuit for anomalous input\n",
    "anomaly_circuit = cirq.Circuit()\n",
    "encode_input(anomaly_circuit, [q0, q1], anomalous_features)\n",
    "add_vqc_layer(anomaly_circuit, [q0, q1], [theta_0, theta_1])\n",
    "anomaly_circuit.append(cirq.measure(q0, q1, key='result'))\n",
    "# Resolve params\n",
    "resolved_anomaly_circuit = cirq.resolve_parameters(anomaly_circuit, {\n",
    "    theta_0: 0.1,\n",
    "    theta_1: -0.3\n",
    "})\n",
    "# Simulate\n",
    "anomaly_result = simulator.run(resolved_anomaly_circuit, repetitions=100)\n",
    "# Extract & print probabilities\n",
    "bitstrings = [''.join(map(str, b)) for b in anomaly_result.measurements['result']]\n",
    "counts = Counter(bitstrings)\n",
    "total_shots = sum(counts.values())\n",
    "anomaly_probabilities = {k: v / total_shots for k, v in counts.items()}\n",
    "\n",
    "print(\"Anomalous Input Probabilities:\")\n",
    "for outcome, prob in sorted(anomaly_probabilities.items()):\n",
    "    print(f\"{outcome}: {prob:.3f}\")"
   ]
  },
  {
   "cell_type": "markdown",
   "id": "f817bd49-22f0-4f34-afa4-c38ddd337751",
   "metadata": {},
   "source": [
    "# Original Input Probabilities:\n",
    "makefile\n",
    "Copy\n",
    "Edit\n",
    "00: 0.090\n",
    "01: 0.710   ← Dominant\n",
    "10: 0.160\n",
    "11: 0.040\n",
    "# Anomalous Input Probabilities:\n",
    "makefile\n",
    "Copy\n",
    "Edit\n",
    "00: 0.700   ← Now dominant!\n",
    "01: 0.140\n",
    "10: 0.020\n",
    "11: 0.140"
   ]
  },
  {
   "cell_type": "markdown",
   "id": "39fac746-fa0d-4e80-bf9f-ea26594411ea",
   "metadata": {},
   "source": [
    "our VQC is now clearly flipping its “confidence” from 01 to 00 after a minor input change.\n",
    "\n",
    "That shift from 71% → 14% (for 01) and 9% → 70% (for 00) tells us the symmetry has been broken, and our circuit sees it."
   ]
  },
  {
   "cell_type": "markdown",
   "id": "0ec75640-f0dc-4a23-b52d-a7f4747df854",
   "metadata": {},
   "source": [
    "#in the above anomalous input probabilities\n",
    "#01 and 11 having same probabilities represent an anomaly?\n",
    "The short answer: It can — if they weren't tied before.\n",
    "Why?\n",
    "In a symmetric, clean protocol (or graph), certain outcomes dominate predictably.\n",
    "\n",
    "When two states (like 01 and 11) are equally likely, but weren’t in the normal scenario, it can indicate:\n",
    "\n",
    "Loss of correlation (maybe a broken entanglement-style flow)\n",
    "\n",
    "Degenerate behavior (two outputs that shouldn't match now do)\n",
    "\n",
    "Leaked symmetry (the circuit is now agnostic to which path is taken)\n",
    "\n",
    "So yes, that tie could indicate confusion or drift in the circuit's learned distribution — and that's exactly what an anomaly detector should be picking up."
   ]
  },
  {
   "cell_type": "markdown",
   "id": "3fa3a790-b06b-4630-a000-c7ac4d5dec99",
   "metadata": {},
   "source": [
    "What we've Achieved So Far:\n",
    "✅ Validated your circuit responds to symmetry-breaking inputs\n",
    "✅ Observed measurable probability shifts\n",
    "✅ Built a prototype quantum anomaly detector using a toy VQC"
   ]
  },
  {
   "cell_type": "code",
   "execution_count": null,
   "id": "40c650f5-10f3-4bd9-9bc1-427a8eef1aa7",
   "metadata": {},
   "outputs": [],
   "source": []
  }
 ],
 "metadata": {
  "kernelspec": {
   "display_name": "Python 3 (ipykernel)",
   "language": "python",
   "name": "python3"
  },
  "language_info": {
   "codemirror_mode": {
    "name": "ipython",
    "version": 3
   },
   "file_extension": ".py",
   "mimetype": "text/x-python",
   "name": "python",
   "nbconvert_exporter": "python",
   "pygments_lexer": "ipython3",
   "version": "3.10.16"
  }
 },
 "nbformat": 4,
 "nbformat_minor": 5
}
