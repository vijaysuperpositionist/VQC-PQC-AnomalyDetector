{
 "cells": [
  {
   "cell_type": "code",
   "execution_count": 1,
   "id": "88a432b0-e964-481f-88b4-ee53a6b93bdc",
   "metadata": {},
   "outputs": [],
   "source": [
    "# Recap Previously on this series we have started with VQC_Graph_encoding, built a cirq circuit and compared the input features with injected anamolies for Cirq learning.\n",
    "# in file two vqc_classifier_training, we've defined a simple ansatz the variational block we use is a simple ansatz — a parameterized quantum circuit template that we’re tuning to minimize classification error\n",
    "#in file two ansatz = we have included costfunction  trained Brute force parameter optimization (Grid Search) and used trained model on new inputs and realized zero loss, perfect classification"
   ]
  },
  {
   "cell_type": "code",
   "execution_count": 2,
   "id": "c00ae102-a75e-4f03-a2a6-636cf751e307",
   "metadata": {},
   "outputs": [],
   "source": [
    "#Define a new circuit with cirq.symbol\n",
    "import cirq\n",
    "import numpy as np\n",
    "import sympy\n",
    "from collections import Counter\n",
    "\n",
    "# Define qubits\n",
    "q0, q1 = cirq.LineQubit.range(2)\n",
    "\n",
    "# Create symbols for variational parameters\n",
    "theta_0 = sympy.Symbol('theta_0')\n",
    "theta_1 = sympy.Symbol('theta_1')\n",
    "\n",
    "# Reusable circuit builder with symbolic params\n",
    "def build_symbolic_circuit(features):\n",
    "    circuit = cirq.Circuit()\n",
    "    circuit.append([\n",
    "        cirq.ry(features[0])(q0),\n",
    "        cirq.ry(features[1])(q1),\n",
    "        cirq.CNOT(q0, q1),\n",
    "        cirq.ry(theta_0)(q0),\n",
    "        cirq.rz(theta_1)(q1),\n",
    "        cirq.measure(q0, key='label')\n",
    "    ])\n",
    "    return circuit"
   ]
  },
  {
   "cell_type": "markdown",
   "id": "d3dc5305-6df4-44a3-8a7f-0acd4499275f",
   "metadata": {},
   "source": [
    "Step 2: Define Loss Function (Cross-Entropy-ish with shift rule)\n",
    "We'll calculate:\n",
    "\n",
    "The probability of measuring 1 on q0\n",
    "\n",
    "Compare it to the true label\n",
    "\n",
    "Optimize to minimize this difference"
   ]
  },
  {
   "cell_type": "code",
   "execution_count": 3,
   "id": "f86e5327-04da-48ac-a051-9df00f27d5a7",
   "metadata": {},
   "outputs": [],
   "source": [
    "simulator = cirq.Simulator()\n",
    "\n",
    "def run_prob_one(circuit, param_resolver, repetitions=100):\n",
    "    result = simulator.run(cirq.resolve_parameters(circuit, param_resolver), repetitions=repetitions)\n",
    "    counts = Counter(result.measurements['label'].flatten())\n",
    "    p1 = counts[1] / repetitions\n",
    "    return p1"
   ]
  },
  {
   "cell_type": "code",
   "execution_count": 4,
   "id": "dd4efe11-c81f-4b07-9167-f1bd9b042f67",
   "metadata": {},
   "outputs": [],
   "source": [
    "#Step 3: parameter shift gradient estimate\n",
    "def parameter_shift_gradient(circuit, features, theta_vals, label, shift=np.pi/2):\n",
    "    gradients = []\n",
    "    for i, theta in enumerate([theta_0, theta_1]):\n",
    "        plus = {theta_0: theta_vals[0], theta_1: theta_vals[1]}\n",
    "        minus = plus.copy()\n",
    "\n",
    "        plus[theta] += shift\n",
    "        minus[theta] -= shift\n",
    "\n",
    "        # Run both shifted circuits\n",
    "        circuit_obj = build_symbolic_circuit(features)\n",
    "        p1_plus = run_prob_one(circuit_obj, plus)\n",
    "        p1_minus = run_prob_one(circuit_obj, minus)\n",
    "\n",
    "        # Estimate gradient (∂L/∂θ = (p+ - p-) * (pred - label))\n",
    "        pred = run_prob_one(circuit_obj, {theta_0: theta_vals[0], theta_1: theta_vals[1]})\n",
    "        grad = (p1_plus - p1_minus) * 2 * (pred - label)\n",
    "        gradients.append(grad)\n",
    "    return gradients\n"
   ]
  },
  {
   "cell_type": "code",
   "execution_count": 5,
   "id": "146edd2b-7d45-41ec-8f97-4ae95da24417",
   "metadata": {},
   "outputs": [
    {
     "name": "stdout",
     "output_type": "stream",
     "text": [
      "Epoch 1: Loss = 0.8528, Params = [2.21000646 2.22493292]\n",
      "Epoch 2: Loss = 0.8633, Params = [2.00650646 2.16623292]\n",
      "Epoch 3: Loss = 0.8857, Params = [1.83670646 2.11403292]\n",
      "Epoch 4: Loss = 0.7730, Params = [1.60870646 2.15403292]\n",
      "Epoch 5: Loss = 0.9224, Params = [1.51850646 2.21593292]\n",
      "Epoch 6: Loss = 0.8330, Params = [1.43960646 2.25293292]\n",
      "Epoch 7: Loss = 0.7853, Params = [1.43350646 2.29103292]\n",
      "Epoch 8: Loss = 0.8434, Params = [1.35880646 2.33843292]\n",
      "Epoch 9: Loss = 0.6409, Params = [1.22720646 2.21413292]\n",
      "Epoch 10: Loss = 0.8069, Params = [1.22980646 2.21613292]\n",
      "Epoch 11: Loss = 0.6964, Params = [1.21920646 2.30093292]\n",
      "Epoch 12: Loss = 0.6728, Params = [1.12920646 2.31273292]\n",
      "Epoch 13: Loss = 0.7321, Params = [1.08860646 2.35973292]\n",
      "Epoch 14: Loss = 0.8089, Params = [1.20990646 2.36573292]\n",
      "Epoch 15: Loss = 0.8264, Params = [1.10990646 2.26243292]\n",
      "Epoch 16: Loss = 0.8452, Params = [1.16130646 2.25323292]\n",
      "Epoch 17: Loss = 0.6980, Params = [1.05300646 2.20443292]\n",
      "Epoch 18: Loss = 0.7642, Params = [1.06700646 2.25103292]\n",
      "Epoch 19: Loss = 0.6500, Params = [1.00880646 2.29023292]\n",
      "Epoch 20: Loss = 0.6890, Params = [1.11580646 2.33993292]\n"
     ]
    }
   ],
   "source": [
    "#Step 4: Training Loop\n",
    "# Initialize parameters\n",
    "params = np.random.uniform(-np.pi, np.pi, size=2)\n",
    "learning_rate = 0.5\n",
    "dataset = [\n",
    "    (np.pi * np.array([0.25, 0.75]), 0),\n",
    "    (np.pi * np.array([0.25, 0.25]), 1)\n",
    "]\n",
    "\n",
    "for epoch in range(20):\n",
    "    total_loss = 0\n",
    "    for features, label in dataset:\n",
    "        circuit = build_symbolic_circuit(features)\n",
    "        pred = run_prob_one(circuit, {theta_0: params[0], theta_1: params[1]})\n",
    "        loss = (pred - label) ** 2\n",
    "        total_loss += loss\n",
    "\n",
    "        grads = parameter_shift_gradient(circuit, features, params, label)\n",
    "        params -= learning_rate * np.array(grads)\n",
    "\n",
    "    print(f\"Epoch {epoch+1}: Loss = {total_loss:.4f}, Params = {params}\")"
   ]
  },
  {
   "cell_type": "code",
   "execution_count": 6,
   "id": "795a95d7-7313-4b66-a7d0-539a82cac7b0",
   "metadata": {},
   "outputs": [
    {
     "name": "stdout",
     "output_type": "stream",
     "text": [
      " Final prediction for anomaly: Anomaly\n"
     ]
    }
   ],
   "source": [
    "test_input = np.pi * np.array([0.25, 0.25])\n",
    "test_circuit = build_symbolic_circuit(test_input)\n",
    "prob_1 = run_prob_one(test_circuit, {theta_0: params[0], theta_1: params[1]})\n",
    "predicted = 1 if prob_1 > 0.5 else 0\n",
    "print(f\" Final prediction for anomaly: {'Anomaly' if predicted else 'Normal'}\")\n"
   ]
  },
  {
   "cell_type": "code",
   "execution_count": 7,
   "id": "d0e7c5a5-2154-4c27-bd27-dde63767e192",
   "metadata": {},
   "outputs": [
    {
     "data": {
      "image/png": "[encoded data removed]",
      "text/plain": [
       "<Figure size 640x480 with 1 Axes>"
      ]
     },
     "metadata": {},
     "output_type": "display_data"
    }
   ],
   "source": [
    "#What does a confidence score look like in your VQC\n",
    "import matplotlib.pyplot as plt\n",
    "\n",
    "labels = ['Normal', 'Anomaly']\n",
    "probs = [1 - prob_1, prob_1]  # 1-prob_1 is for class 0\n",
    "\n",
    "plt.bar(labels, probs, color=['green', 'red'])\n",
    "plt.ylabel('Confidence')\n",
    "plt.title('VQC Classifier Confidence for Input')\n",
    "plt.ylim([0, 1])\n",
    "plt.show()"
   ]
  },
  {
   "cell_type": "markdown",
   "id": "9d7fd8c5-9394-44b4-916c-a0d4a83d748e",
   "metadata": {},
   "source": [
    "#Scientific Note \n",
    "•\t\"We observed that the gradient-based optimization method (parameter shift rule) was more sensitive to subtle symmetry deviations in anomalous inputs, whereas the brute-force model occasionally misclassified due to a lack of fine-grained loss resolution. This suggests the value of smooth loss navigation in quantum classifiers even with low-repetition sampling.\"\n"
   ]
  },
  {
   "cell_type": "code",
   "execution_count": null,
   "id": "06bab6eb-012b-47b7-9d1b-488d9ce608fb",
   "metadata": {},
   "outputs": [],
   "source": []
  }
 ],
 "metadata": {
  "kernelspec": {
   "display_name": "Python 3 (ipykernel)",
   "language": "python",
   "name": "python3"
  },
  "language_info": {
   "codemirror_mode": {
    "name": "ipython",
    "version": 3
   },
   "file_extension": ".py",
   "mimetype": "text/x-python",
   "name": "python",
   "nbconvert_exporter": "python",
   "pygments_lexer": "ipython3",
   "version": "3.10.16"
  }
 },
 "nbformat": 4,
 "nbformat_minor": 5
}
