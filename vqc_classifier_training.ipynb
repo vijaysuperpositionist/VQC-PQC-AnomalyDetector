{
 "cells": [
  {
   "cell_type": "markdown",
   "id": "d833efdf-3759-4124-9d2b-137933d6bf4a",
   "metadata": {},
   "source": [
    "This is a continuation version of http://localhost:8888/notebooks/Cirq%2Fquantum-anomaly-detector%2Fcircuits%2Fvqc_graph_encoding_cirq.py.ipynb, this will be available in same directory structure locally within laptop as well as in Github.\n",
    "Notebook 2: vqc_classifier_training.ipynb\n",
    "Purpose: Train a binary quantum classifier to detect anomalies\n",
    "\n",
    "Use: Reuse trained VQC to make predictions on unseen inputs\n",
    "\n",
    "Includes:\n",
    "\n",
    "Dataset encoding\n",
    "\n",
    "Parametric circuit build\n",
    "\n",
    "Loss function\n",
    "\n",
    "Training loop (grid or shift-based)\n",
    "\n",
    "Post-training predictions\n"
   ]
  },
  {
   "cell_type": "code",
   "execution_count": 4,
   "id": "cf8d3424-882e-468e-a14e-974626b2005c",
   "metadata": {},
   "outputs": [],
   "source": [
    "#the variational block we use is a simple ansatz — a parameterized quantum circuit template that we’re tuning to minimize classification error\n",
    "#importing"
   ]
  },
  {
   "cell_type": "code",
   "execution_count": 2,
   "id": "bed4be6b-11b9-4299-a8dc-c3278bf1f114",
   "metadata": {},
   "outputs": [],
   "source": [
    "import cirq\n",
    "import sympy\n",
    "import numpy as np\n",
    "from collections import Counter"
   ]
  },
  {
   "cell_type": "code",
   "execution_count": 3,
   "id": "c521f0f1-8fd6-4ca9-b81e-dc0d4c6cf80c",
   "metadata": {},
   "outputs": [],
   "source": [
    "# Define qubits\n",
    "q0, q1 = cirq.LineQubit.range(2)\n",
    "\n",
    "# Symbolic parameters (the ansatz parameters we'll train)\n",
    "theta_0 = sympy.Symbol('theta_0')\n",
    "theta_1 = sympy.Symbol('theta_1')"
   ]
  },
  {
   "cell_type": "code",
   "execution_count": 5,
   "id": "d837ec87-226c-49e0-ab72-4737f24ce6fe",
   "metadata": {},
   "outputs": [],
   "source": [
    "# Define the parameterized ansatz circuit\n",
    "def build_classifier_circuit(features, theta_vals):\n",
    "    circuit = cirq.Circuit()\n",
    "\n",
    "    # Step 1: Encode features\n",
    "    circuit.append([\n",
    "        cirq.ry(features[0])(q0),\n",
    "        cirq.ry(features[1])(q1)\n",
    "    ])\n",
    "\n",
    "    # Step 2: Variational layer (ansatz)\n",
    "    circuit.append([\n",
    "        cirq.CNOT(q0, q1),\n",
    "        cirq.ry(theta_vals[0])(q0),\n",
    "        cirq.rz(theta_vals[1])(q1)\n",
    "    ])\n",
    "\n",
    "    # Step 3: Measurement\n",
    "    circuit.append(cirq.measure(q0, key='label'))  # Just one qubit for binary classification\n",
    "\n",
    "    return circuit"
   ]
  },
  {
   "cell_type": "code",
   "execution_count": 12,
   "id": "9de9008f-5c62-404e-9e83-30e8238cba50",
   "metadata": {},
   "outputs": [
    {
     "name": "stdout",
     "output_type": "stream",
     "text": [
      " VQC Classifier Circuit:\n",
      "0: ───Ry(0.25π)───@───Ry(0.032π)────M('label')───\n",
      "                  │\n",
      "1: ───Ry(0.75π)───X───Rz(-0.095π)────────────────\n"
     ]
    }
   ],
   "source": [
    "# Use a sample input (e.g., the \"normal\" input)\n",
    "sample_features = np.pi * np.array([0.25, 0.75])\n",
    "theta_test = [0.1, -0.3]\n",
    "\n",
    "# Build the circuit with symbolic parameters\n",
    "test_circuit = build_classifier_circuit(sample_features, theta_test)\n",
    "\n",
    "# Display the circuit\n",
    "print(\" VQC Classifier Circuit:\")\n",
    "print(test_circuit)"
   ]
  },
  {
   "cell_type": "code",
   "execution_count": 7,
   "id": "202a704c-5370-4da4-a57d-f74f1576c749",
   "metadata": {},
   "outputs": [],
   "source": [
    "#Defining Toy data set\n",
    "# Synthetic binary classification dataset: [features], label\n",
    "dataset = [\n",
    "    (np.pi * np.array([0.25, 0.75]), 0),  # Normal\n",
    "    (np.pi * np.array([0.25, 0.25]), 1)   # Anomaly\n",
    "]"
   ]
  },
  {
   "cell_type": "code",
   "execution_count": 9,
   "id": "03a5b3c7-2f5d-4d7e-ac70-d3f4893d28a1",
   "metadata": {},
   "outputs": [],
   "source": [
    "#Cost Function (Squared Error Based)"
   ]
  },
  {
   "cell_type": "code",
   "execution_count": 8,
   "id": "91691856-1551-4aba-8d23-600be0f34ea1",
   "metadata": {},
   "outputs": [],
   "source": [
    "simulator = cirq.Simulator()\n",
    "\n",
    "def evaluate_cost(params):\n",
    "    total_loss = 0\n",
    "    for features, label in dataset:\n",
    "        circuit = build_classifier_circuit(features, [params[0], params[1]])\n",
    "        result = simulator.run(circuit, repetitions=100)\n",
    "        counts = Counter(result.measurements['label'].flatten())\n",
    "        predicted_class = 1 if counts[1] > counts[0] else 0\n",
    "        loss = (predicted_class - label)**2\n",
    "        total_loss += loss\n",
    "    return total_loss / len(dataset)"
   ]
  },
  {
   "cell_type": "code",
   "execution_count": 13,
   "id": "553829e9-50bd-44cc-8882-acbb4f861b29",
   "metadata": {},
   "outputs": [
    {
     "name": "stdout",
     "output_type": "stream",
     "text": [
      " Best parameters found: [-2.14951076298249, -1.157428872375187] with loss: 0.0\n"
     ]
    }
   ],
   "source": [
    "#Brute-Force Parameter Optimization (Grid Search)\n",
    "from itertools import product\n",
    "\n",
    "theta_range = np.linspace(-np.pi, np.pi, 20)\n",
    "best_loss = float('inf')\n",
    "best_params = None\n",
    "\n",
    "for t0, t1 in product(theta_range, repeat=2):\n",
    "    loss = evaluate_cost([t0, t1])\n",
    "    if loss < best_loss:\n",
    "        best_loss = loss\n",
    "        best_params = [t0, t1]\n",
    "\n",
    "print(f\" Best parameters found: {best_params} with loss: {best_loss}\")"
   ]
  },
  {
   "cell_type": "code",
   "execution_count": 14,
   "id": "df8031c7-ca75-4ca1-b8a8-363e42a77249",
   "metadata": {},
   "outputs": [
    {
     "name": "stdout",
     "output_type": "stream",
     "text": [
      " Predicted label: Normal\n"
     ]
    }
   ],
   "source": [
    "#Use Trained Model on New Inputs\n",
    "# Test inference with trained parameters\n",
    "def predict(features, trained_params):\n",
    "    circuit = build_classifier_circuit(features, trained_params)\n",
    "    result = simulator.run(circuit, repetitions=100)\n",
    "    counts = Counter(result.measurements['label'].flatten())\n",
    "    pred = 1 if counts[1] > counts[0] else 0\n",
    "    return pred\n",
    "\n",
    "# Example test\n",
    "test_input = np.pi * np.array([0.25, 0.25])  # Should be anomaly\n",
    "print(\" Predicted label:\", \"Anomaly\" if predict(test_input, best_params) else \"Normal\")"
   ]
  },
  {
   "cell_type": "markdown",
   "id": "266f9115-ce04-4905-bccb-c769d1b7a4c4",
   "metadata": {},
   "source": [
    "Zero loss , perfect classification.\n",
    "Encoded abstract features quantumly ✅\n",
    "\n",
    "Built and printed a real VQC classifier ✅\n",
    "\n",
    "Simulated input anomalies ✅\n",
    "\n",
    "Trained the model using grid-search optimization ✅\n",
    "\n",
    "Achieved correct prediction with zero loss ✅"
   ]
  },
  {
   "cell_type": "code",
   "execution_count": 15,
   "id": "95b8dc20-5a42-4570-818b-e9777bb788a8",
   "metadata": {},
   "outputs": [],
   "source": [
    "#Next steps \"vqc_classifier_training_with_gradients\""
   ]
  },
  {
   "cell_type": "code",
   "execution_count": null,
   "id": "7d49a434-8629-4161-87b3-10ed82568e81",
   "metadata": {},
   "outputs": [],
   "source": []
  }
 ],
 "metadata": {
  "kernelspec": {
   "display_name": "Python 3 (ipykernel)",
   "language": "python",
   "name": "python3"
  },
  "language_info": {
   "codemirror_mode": {
    "name": "ipython",
    "version": 3
   },
   "file_extension": ".py",
   "mimetype": "text/x-python",
   "name": "python",
   "nbconvert_exporter": "python",
   "pygments_lexer": "ipython3",
   "version": "3.10.16"
  }
 },
 "nbformat": 4,
 "nbformat_minor": 5
}
